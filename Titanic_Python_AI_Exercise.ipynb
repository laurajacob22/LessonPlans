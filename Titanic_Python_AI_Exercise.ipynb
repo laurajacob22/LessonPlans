{
  "nbformat": 4,
  "nbformat_minor": 0,
  "metadata": {
    "colab": {
      "name": "Titanic Python AI Exercise.ipynb",
      "version": "0.3.2",
      "provenance": [],
      "include_colab_link": true
    },
    "kernelspec": {
      "name": "python3",
      "display_name": "Python 3"
    }
  },
  "cells": [
    {
      "cell_type": "markdown",
      "metadata": {
        "id": "view-in-github",
        "colab_type": "text"
      },
      "source": [
        "[View in Colaboratory](https://colab.research.google.com/github/laurajacob22/LessonPlans/blob/master/Titanic_Python_AI_Exercise.ipynb)"
      ]
    },
    {
      "metadata": {
        "id": "7LyLT6sDdNPn",
        "colab_type": "text"
      },
      "cell_type": "markdown",
      "source": [
        "**Titanic Machine Learning Exercise**\n",
        "\n",
        "This is a practice exercise for creating artifical intelligence systems. The goal of this activity is to create a predictive system that accurately depicts who survived and who died on the Titanic. \n",
        "\n",
        "```\n",
        "\n",
        "![Titanic Sinking](http://www.titanicuniverse.com/wp-content/uploads/2009/10/titanic-sinking-underwater.jpg)"
      ]
    },
    {
      "metadata": {
        "id": "_v7HUU2p2bID",
        "colab_type": "text"
      },
      "cell_type": "markdown",
      "source": [
        "The code below allows us to import several libraries that we will use to analyze our data. \n",
        "\n",
        "Library: a series of functions available on the Internet. "
      ]
    },
    {
      "metadata": {
        "id": "bW5fKren2M_0",
        "colab_type": "code",
        "colab": {}
      },
      "cell_type": "code",
      "source": [
        "import pandas as pd\n",
        "import numpy as np\n",
        "from sklearn import tree, preprocessing"
      ],
      "execution_count": 0,
      "outputs": []
    },
    {
      "metadata": {
        "id": "gGCeZfXO2Xia",
        "colab_type": "text"
      },
      "cell_type": "markdown",
      "source": [
        "Let's next import two datasets. One is for training our machine and the other is to test the data. "
      ]
    },
    {
      "metadata": {
        "id": "_ATcVbU-21yY",
        "colab_type": "code",
        "colab": {}
      },
      "cell_type": "code",
      "source": [
        "train_url = \"http://s3.amazonaws.com/assets.datacamp.com/course/Kaggle/train.csv\"\n",
        "train = pd.read_csv(train_url)\n",
        "\n",
        "test_url = \"http://s3.amazonaws.com/assets.datacamp.com/course/Kaggle/test.csv\"\n",
        "test = pd.read_csv(test_url)"
      ],
      "execution_count": 0,
      "outputs": []
    },
    {
      "metadata": {
        "id": "xRt1Hcyw4HKz",
        "colab_type": "text"
      },
      "cell_type": "markdown",
      "source": [
        "We have now created two variables: train and test. We will use the data in \"train\" to create a model and then we will use the data in \"test\" to see how accurate our model is. \n",
        "\n",
        "Let's see what is in the head (first few lines) of the training data:"
      ]
    },
    {
      "metadata": {
        "id": "avKd4s9U4da3",
        "colab_type": "code",
        "colab": {}
      },
      "cell_type": "code",
      "source": [
        "print(train.head())"
      ],
      "execution_count": 0,
      "outputs": []
    },
    {
      "metadata": {
        "id": "SGJffkbG4v2t",
        "colab_type": "text"
      },
      "cell_type": "markdown",
      "source": [
        "The data has 12 columns. We will need to review the data dictionary to identify more information:\n",
        "\n",
        "*   PassengerId = Number of passengers\n",
        "* Survived = Survival (0 = No; 1 = Yes)\n",
        "*   Pclass = Passenger Class (1= 1st; 2 = 2nd; 3 = 3rd)\n",
        "*  Name = Name\n",
        "* Sex = Sex\n",
        "* Age = Age (in years)\n",
        "* SibSp = Number of siblings or spouses aboard\n",
        "* Parch = Number of parents/children aboard\n",
        "* Ticket = Ticket Number\n",
        "* Fare = Passenger Fare (pre-1970 British Pound)\n",
        "* Cabin = Cabin number\n",
        "* Embarked = Port from where they embarked (C = Cherbourg; Q = Queenstown; S = Southampton)\n"
      ]
    },
    {
      "metadata": {
        "id": "6oY9CP-H6ROJ",
        "colab_type": "text"
      },
      "cell_type": "markdown",
      "source": [
        "NaN vs. Zero\n",
        "\n",
        "* NaN = Not a number, no value for this variable\n",
        "* Zero = 0\n",
        "* Null = empty data set"
      ]
    },
    {
      "metadata": {
        "id": "IygGnry768fP",
        "colab_type": "text"
      },
      "cell_type": "markdown",
      "source": [
        "Let's see what the first few lines of the test dataset look like:"
      ]
    },
    {
      "metadata": {
        "id": "v12EfB1_7Aa6",
        "colab_type": "code",
        "colab": {}
      },
      "cell_type": "code",
      "source": [
        "print(test.head())"
      ],
      "execution_count": 0,
      "outputs": []
    },
    {
      "metadata": {
        "id": "3Lz2ctMU7vJe",
        "colab_type": "text"
      },
      "cell_type": "markdown",
      "source": [
        "Next, we are going to do what's call \"interviewing the data.\" This will run some basic summary statistics  on the training dataset to understand it a little better. "
      ]
    },
    {
      "metadata": {
        "id": "OAG6WQoc7_H1",
        "colab_type": "code",
        "colab": {}
      },
      "cell_type": "code",
      "source": [
        "train.describe()"
      ],
      "execution_count": 0,
      "outputs": []
    },
    {
      "metadata": {
        "id": "3EkJ5Y5Q8NFh",
        "colab_type": "text"
      },
      "cell_type": "markdown",
      "source": [
        "\n",
        "\n",
        "* How many records are there?\n",
        "* What is the average age on the Titanic? \n",
        "* What was the maximum number of siblings?\n",
        "* How old was the oldest person on the Titanic?\n",
        "* What was the average fare?\n",
        "\n",
        "Let's dive a litter deeper into the data:\n"
      ]
    },
    {
      "metadata": {
        "id": "eMzByS4k873s",
        "colab_type": "code",
        "colab": {}
      },
      "cell_type": "code",
      "source": [
        "train[\"Pclass\"].value_counts()"
      ],
      "execution_count": 0,
      "outputs": []
    },
    {
      "metadata": {
        "id": "15R0jHpy9FEA",
        "colab_type": "code",
        "colab": {}
      },
      "cell_type": "code",
      "source": [
        "train[\"Survived\"].value_counts()"
      ],
      "execution_count": 0,
      "outputs": []
    },
    {
      "metadata": {
        "id": "uk1DAC-D9UDV",
        "colab_type": "code",
        "colab": {}
      },
      "cell_type": "code",
      "source": [
        "print(train[\"Survived\"].value_counts(normalize = True))"
      ],
      "execution_count": 0,
      "outputs": []
    },
    {
      "metadata": {
        "id": "dVim8R1KIQPi",
        "colab_type": "text"
      },
      "cell_type": "markdown",
      "source": [
        "**What factors will help us improve our decision of survival?**"
      ]
    },
    {
      "metadata": {
        "id": "_wKKdN1RHWMa",
        "colab_type": "code",
        "colab": {}
      },
      "cell_type": "code",
      "source": [
        "#Males that survived vs males that passed away\n",
        "print(train[\"Survived\"][train[\"Sex\"] == 'male'].value_counts())"
      ],
      "execution_count": 0,
      "outputs": []
    },
    {
      "metadata": {
        "id": "ZkUqV76tIczo",
        "colab_type": "code",
        "colab": {}
      },
      "cell_type": "code",
      "source": [
        "#Females that survived vs females that passed away\n",
        "print(train[\"Survived\"][train[\"Sex\"] == 'female'].value_counts())"
      ],
      "execution_count": 0,
      "outputs": []
    },
    {
      "metadata": {
        "id": "fH5w-CmRI9mJ",
        "colab_type": "code",
        "colab": {}
      },
      "cell_type": "code",
      "source": [
        "#normalized male survival\n",
        "print(train[\"Survived\"][train[\"Sex\"] == 'male'].value_counts(normalize=True))"
      ],
      "execution_count": 0,
      "outputs": []
    },
    {
      "metadata": {
        "id": "i1sJUTkkJNFM",
        "colab_type": "code",
        "colab": {}
      },
      "cell_type": "code",
      "source": [
        "#normalized female survival\n",
        "print(train[\"Survived\"][train[\"Sex\"] == 'female'].value_counts(normalize=True))"
      ],
      "execution_count": 0,
      "outputs": []
    },
    {
      "metadata": {
        "id": "0yopC5q_-kua",
        "colab_type": "text"
      },
      "cell_type": "markdown",
      "source": [
        "To construct our model, we are going to develop a \"Decision Tree\", a type of algorithm. \n",
        "\n",
        "The first thing we need to do is fill in the missing values because otherwise the algorithm will not run. "
      ]
    },
    {
      "metadata": {
        "id": "2vjWI4fr-7hz",
        "colab_type": "code",
        "colab": {}
      },
      "cell_type": "code",
      "source": [
        "train[\"Age\"] = train[\"Age\"].fillna(train[\"Age\"].median())"
      ],
      "execution_count": 0,
      "outputs": []
    },
    {
      "metadata": {
        "id": "NMN4EhTa_QEu",
        "colab_type": "code",
        "colab": {}
      },
      "cell_type": "code",
      "source": [
        "print(train)"
      ],
      "execution_count": 0,
      "outputs": []
    },
    {
      "metadata": {
        "id": "fDzFcs8OAPAH",
        "colab_type": "text"
      },
      "cell_type": "markdown",
      "source": [
        "Let's create arrays (structures that the computer can manipulate):"
      ]
    },
    {
      "metadata": {
        "id": "3GVMPawZAVPu",
        "colab_type": "code",
        "colab": {}
      },
      "cell_type": "code",
      "source": [
        "#creates the target and features numpy arrays: target, features_one\n",
        "target = train[\"Survived\"].values\n",
        "\n",
        "#preprocess\n",
        "encoded_sex = preprocessing.LabelEncoder()\n",
        "\n",
        "#convert into numbers\n",
        "train.Sex = encoded_sex.fit_transform(train.Sex)\n",
        "features_one = train[[\"Pclass\", \"Sex\", \"Age\", \"Fare\"]].values\n",
        "\n",
        "#Fit the first decision tree: my_tree_one\n",
        "my_tree_one = tree.DecisionTreeClassifier()\n",
        "my_tree_one = my_tree_one.fit(features_one, target)"
      ],
      "execution_count": 0,
      "outputs": []
    },
    {
      "metadata": {
        "id": "xufcIe-6BOR4",
        "colab_type": "text"
      },
      "cell_type": "markdown",
      "source": [
        "We are running a function call \"fit\" on the decision tree classifier called \"my_tree_one.\" The features we want it to figure are: Pclass, Sex, Age, and Fare. We are telling the algorithm to figure out what the relationship is among the four and how it predicts the value in the target field: \"Survived.\""
      ]
    },
    {
      "metadata": {
        "id": "0T5EsUGMBoHq",
        "colab_type": "code",
        "colab": {}
      },
      "cell_type": "code",
      "source": [
        "print(my_tree_one.feature_importances_)"
      ],
      "execution_count": 0,
      "outputs": []
    },
    {
      "metadata": {
        "id": "YZnbRuu7K1g-",
        "colab_type": "text"
      },
      "cell_type": "markdown",
      "source": [
        "The feature_importances show the statistical significance of each predictor. Here is what they explain:\n",
        "\n",
        "\n",
        "*   PClass = 0.13303968\n",
        "*   Sex = 0.31274009\n",
        "* Age = 0.2390173\n",
        "* Fare = 0.31520292\n",
        "\n"
      ]
    },
    {
      "metadata": {
        "id": "7D_7cx8sLNsg",
        "colab_type": "text"
      },
      "cell_type": "markdown",
      "source": [
        "**What is the highest number? What does that say?**"
      ]
    },
    {
      "metadata": {
        "id": "sRLC8aPqLT2X",
        "colab_type": "text"
      },
      "cell_type": "markdown",
      "source": [
        "Let's run a calculation to see how accurate our calculation is within the constraints of the data:"
      ]
    },
    {
      "metadata": {
        "id": "7m4GdZXyLblT",
        "colab_type": "code",
        "colab": {}
      },
      "cell_type": "code",
      "source": [
        "print(my_tree_one.score(features_one, target))"
      ],
      "execution_count": 0,
      "outputs": []
    },
    {
      "metadata": {
        "id": "5azJ88kZLjjR",
        "colab_type": "text"
      },
      "cell_type": "markdown",
      "source": [
        "**How accurate is your model?**"
      ]
    },
    {
      "metadata": {
        "id": "FtqZ0eJWLvBU",
        "colab_type": "text"
      },
      "cell_type": "markdown",
      "source": [
        "Now, we are going to take this model and apply it to the test data. The test data does not have a \"Survived\" column, so our job is to predict whether each passenger in the test data durvived or perished. "
      ]
    },
    {
      "metadata": {
        "id": "2FAI-dmtMFC3",
        "colab_type": "code",
        "colab": {}
      },
      "cell_type": "code",
      "source": [
        "#Fill any missing fare values with the median fare\n",
        "test[\"Fare\"] = test[\"Fare\"].fillna(test[\"Fare\"].median())\n",
        "\n",
        "#Fill any missing age values with the median age\n",
        "test[\"Age\"] = test[\"Age\"].fillna(test[\"Age\"].median())\n",
        "\n",
        "#Preprocess\n",
        "test_encoded_sex = preprocessing.LabelEncoder()\n",
        "test.Sex = test_encoded_sex.fit_transform(test.Sex)\n",
        "\n",
        "#Extract important features from the test set: Pclass, Sex, Age, and Fare\n",
        "test_features = test[[\"Pclass\", \"Sex\", \"Age\", \"Fare\"]].values\n",
        "print('These are the features:\\n')\n",
        "print(test_features)\n",
        "\n",
        "#Make a prediction using the test set and print\n",
        "my_prediction = my_tree_one.predict(test_features)\n",
        "print('This is the prediction:\\n')\n",
        "print(my_prediction)\n",
        "\n",
        "#Create a data frame with two columns: PassengerID & Survived\n",
        "#Survived contains the model's prediction\n",
        "PassengerId =np.array(test[\"PassengerId\"]).astype(int)\n",
        "my_solution = pd.DataFrame(my_prediction, PassengerId, columns = [\"Survived\"])\n",
        "print('This is the solution in toto:\\n')\n",
        "print(my_solution)\n",
        "\n",
        "#Check that the data frame has 418 entries\n",
        "print('This is the solution shape:\\n')\n",
        "print(my_solution.shape)\n",
        "\n",
        "#Write the solution to a CSV file with the name my_solution.csv\n",
        "my_solution.to_csv(\"my_solution_one.csv\", index_label = [\"PassengerId\"])"
      ],
      "execution_count": 0,
      "outputs": []
    }
  ]
}